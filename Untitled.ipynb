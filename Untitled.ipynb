{
 "cells": [
  {
   "cell_type": "code",
   "execution_count": 1,
   "metadata": {},
   "outputs": [],
   "source": [
    "import cv2\n",
    "import os\n",
    "X=[]\n",
    "y=[]"
   ]
  },
  {
   "cell_type": "code",
   "execution_count": 2,
   "metadata": {},
   "outputs": [],
   "source": [
    "path=\"C:\\\\Users\\\\DELL\\\\Downloads\\\\CatsandDogs\\\\CatsandDogs\\\\cats\"\n",
    "for p in os.listdir(path):\n",
    "        img_array = cv2.imread(os.path.join(path,p),cv2.IMREAD_GRAYSCALE)\n",
    "        new_img_array = cv2.resize(img_array, dsize=(64, 64))\n",
    "        X.append(new_img_array)\n",
    "        y.append(0)\n",
    "\n"
   ]
  },
  {
   "cell_type": "code",
   "execution_count": null,
   "metadata": {},
   "outputs": [],
   "source": []
  },
  {
   "cell_type": "code",
   "execution_count": 5,
   "metadata": {},
   "outputs": [],
   "source": [
    "path=\"C:\\\\Users\\\\DELL\\\\Downloads\\\\CatsandDogs\\\\CatsandDogs\\\\dogs\"\n",
    "for p in os.listdir(path):\n",
    "        img_array = cv2.imread(os.path.join(path,p),cv2.IMREAD_GRAYSCALE)\n",
    "        new_img_array = cv2.resize(img_array\n",
    "                                   , dsize=(64, 64))\n",
    "        X.append(new_img_array)\n",
    "        y.append(1)\n"
   ]
  },
  {
   "cell_type": "code",
   "execution_count": 6,
   "metadata": {},
   "outputs": [],
   "source": [
    "import numpy as np\n",
    "X = np.array(X).reshape(-1, 64,64,1)\n",
    "y = np.array(y)\n",
    "X = X/255.0"
   ]
  },
  {
   "cell_type": "code",
   "execution_count": 7,
   "metadata": {},
   "outputs": [
    {
     "data": {
      "text/plain": [
       "25000"
      ]
     },
     "execution_count": 7,
     "metadata": {},
     "output_type": "execute_result"
    }
   ],
   "source": [
    "len(X)"
   ]
  },
  {
   "cell_type": "code",
   "execution_count": 8,
   "metadata": {},
   "outputs": [],
   "source": [
    "from sklearn.model_selection import train_test_split\n",
    "X_train, X_test, y_train, y_test = train_test_split(X, y, test_size=0.2, random_state=42)"
   ]
  },
  {
   "cell_type": "code",
   "execution_count": null,
   "metadata": {},
   "outputs": [],
   "source": []
  },
  {
   "cell_type": "code",
   "execution_count": 9,
   "metadata": {},
   "outputs": [
    {
     "name": "stderr",
     "output_type": "stream",
     "text": [
      "Using TensorFlow backend.\n"
     ]
    }
   ],
   "source": [
    "import keras\n",
    "from keras.models import Sequential\n",
    "from keras.layers import Dense, Dropout, Flatten\n",
    "from keras.layers import Conv2D, MaxPooling2D\n",
    "from keras import backend as K"
   ]
  },
  {
   "cell_type": "code",
   "execution_count": 19,
   "metadata": {},
   "outputs": [],
   "source": [
    "im_width=64\n",
    "im_height=64\n",
    "model=Sequential()\n",
    "model.add(Conv2D(kernel_size=(3, 3),filters=3,\n",
    "                 activation='relu',\n",
    "                 input_shape=(im_width,im_height,1),padding=\"valid\"))\n",
    "model.add(keras.layers.BatchNormalization(axis=-1, momentum=0.99, epsilon=0.001, center=True, scale=True, beta_initializer='zeros', gamma_initializer='ones', moving_mean_initializer='zeros', moving_variance_initializer='ones', beta_regularizer=None, gamma_regularizer=None, beta_constraint=None, gamma_constraint=None))\n",
    "model.add(Conv2D(kernel_size=(3, 3),filters=10,\n",
    "                 activation='relu',\n",
    "                 padding=\"same\"))\n",
    "model.add(MaxPooling2D(pool_size=(2, 2),strides=(2,2)))\n",
    "model.add(keras.layers.BatchNormalization(axis=-1, momentum=0.99, epsilon=0.001, center=True, scale=True, beta_initializer='zeros', gamma_initializer='ones', moving_mean_initializer='zeros', moving_variance_initializer='ones', beta_regularizer=None, gamma_regularizer=None, beta_constraint=None, gamma_constraint=None))\n",
    "model.add(Conv2D(kernel_size=(3, 3),filters=3,\n",
    "                 activation='relu',\n",
    "                 padding=\"same\"))\n",
    "model.add(keras.layers.BatchNormalization(axis=-1, momentum=0.99, epsilon=0.001, center=True, scale=True, beta_initializer='zeros', gamma_initializer='ones', moving_mean_initializer='zeros', moving_variance_initializer='ones', beta_regularizer=None, gamma_regularizer=None, beta_constraint=None, gamma_constraint=None))\n",
    "\n",
    "model.add(Conv2D(kernel_size=(5, 5),filters=5,\n",
    "                 activation='relu',\n",
    "                 padding=\"same\"))\n",
    "model.add(MaxPooling2D(pool_size=(3, 3),strides=(2,2)))\n",
    "model.add(keras.layers.BatchNormalization(axis=-1, momentum=0.99, epsilon=0.001, center=True, scale=True, beta_initializer='zeros', gamma_initializer='ones', moving_mean_initializer='zeros', moving_variance_initializer='ones', beta_regularizer=None, gamma_regularizer=None, beta_constraint=None, gamma_constraint=None))\n",
    "\n",
    "model.add(Conv2D(kernel_size=(2, 2), strides=(2,2) ,filters=10 ))\n",
    "\n",
    "model.add(Flatten())\n",
    "model.add(Dropout(0.25))\n",
    "model.add(keras.layers.BatchNormalization(axis=-1, momentum=0.99, epsilon=0.001, center=True, scale=True, beta_initializer='zeros', gamma_initializer='ones', moving_mean_initializer='zeros', moving_variance_initializer='ones', beta_regularizer=None, gamma_regularizer=None, beta_constraint=None, gamma_constraint=None))\n",
    "\n",
    "model.add(Dense(100, activation='sigmoid'))\n",
    "\n",
    "model.add(Dense(1, activation='sigmoid'))\n",
    "\n"
   ]
  },
  {
   "cell_type": "code",
   "execution_count": 20,
   "metadata": {},
   "outputs": [
    {
     "name": "stdout",
     "output_type": "stream",
     "text": [
      "_________________________________________________________________\n",
      "Layer (type)                 Output Shape              Param #   \n",
      "=================================================================\n",
      "conv2d_6 (Conv2D)            (None, 62, 62, 3)         30        \n",
      "_________________________________________________________________\n",
      "batch_normalization_6 (Batch (None, 62, 62, 3)         12        \n",
      "_________________________________________________________________\n",
      "conv2d_7 (Conv2D)            (None, 62, 62, 10)        280       \n",
      "_________________________________________________________________\n",
      "max_pooling2d_3 (MaxPooling2 (None, 31, 31, 10)        0         \n",
      "_________________________________________________________________\n",
      "batch_normalization_7 (Batch (None, 31, 31, 10)        40        \n",
      "_________________________________________________________________\n",
      "conv2d_8 (Conv2D)            (None, 31, 31, 3)         273       \n",
      "_________________________________________________________________\n",
      "batch_normalization_8 (Batch (None, 31, 31, 3)         12        \n",
      "_________________________________________________________________\n",
      "conv2d_9 (Conv2D)            (None, 31, 31, 5)         380       \n",
      "_________________________________________________________________\n",
      "max_pooling2d_4 (MaxPooling2 (None, 15, 15, 5)         0         \n",
      "_________________________________________________________________\n",
      "batch_normalization_9 (Batch (None, 15, 15, 5)         20        \n",
      "_________________________________________________________________\n",
      "conv2d_10 (Conv2D)           (None, 7, 7, 10)          210       \n",
      "_________________________________________________________________\n",
      "flatten_2 (Flatten)          (None, 490)               0         \n",
      "_________________________________________________________________\n",
      "dropout_2 (Dropout)          (None, 490)               0         \n",
      "_________________________________________________________________\n",
      "batch_normalization_10 (Batc (None, 490)               1960      \n",
      "_________________________________________________________________\n",
      "dense_3 (Dense)              (None, 100)               49100     \n",
      "_________________________________________________________________\n",
      "dense_4 (Dense)              (None, 1)                 101       \n",
      "=================================================================\n",
      "Total params: 52,418\n",
      "Trainable params: 51,396\n",
      "Non-trainable params: 1,022\n",
      "_________________________________________________________________\n"
     ]
    }
   ],
   "source": [
    "model.summary()"
   ]
  },
  {
   "cell_type": "code",
   "execution_count": 21,
   "metadata": {},
   "outputs": [],
   "source": [
    "model.compile(optimizer=\"adam\",\n",
    "              loss='binary_crossentropy',\n",
    "              metrics=['accuracy'])"
   ]
  },
  {
   "cell_type": "code",
   "execution_count": 22,
   "metadata": {},
   "outputs": [
    {
     "name": "stdout",
     "output_type": "stream",
     "text": [
      "Epoch 1/80\n",
      "20000/20000 [==============================] - 14s 709us/step - loss: 0.6404 - acc: 0.6316\n",
      "Epoch 2/80\n",
      "20000/20000 [==============================] - 21s 1ms/step - loss: 0.5831 - acc: 0.6934: 1s \n",
      "Epoch 3/80\n",
      "20000/20000 [==============================] - 21s 1ms/step - loss: 0.5620 - acc: 0.7090\n",
      "Epoch 4/80\n",
      "20000/20000 [==============================] - 20s 1ms/step - loss: 0.5505 - acc: 0.7171\n",
      "Epoch 5/80\n",
      "20000/20000 [==============================] - 21s 1ms/step - loss: 0.5399 - acc: 0.7280\n",
      "Epoch 6/80\n",
      "20000/20000 [==============================] - 20s 1ms/step - loss: 0.5290 - acc: 0.7334\n",
      "Epoch 7/80\n",
      "20000/20000 [==============================] - 20s 1ms/step - loss: 0.5191 - acc: 0.7399\n",
      "Epoch 8/80\n",
      "20000/20000 [==============================] - 20s 1ms/step - loss: 0.5097 - acc: 0.7477\n",
      "Epoch 9/80\n",
      "20000/20000 [==============================] - 21s 1ms/step - loss: 0.5052 - acc: 0.7507\n",
      "Epoch 10/80\n",
      "20000/20000 [==============================] - 21s 1ms/step - loss: 0.4958 - acc: 0.7611\n",
      "Epoch 11/80\n",
      "20000/20000 [==============================] - 20s 1ms/step - loss: 0.4884 - acc: 0.7624\n",
      "Epoch 12/80\n",
      "20000/20000 [==============================] - 21s 1ms/step - loss: 0.4843 - acc: 0.7649: 0s - loss: 0.4846 - acc: 0.7\n",
      "Epoch 13/80\n",
      "20000/20000 [==============================] - 20s 1ms/step - loss: 0.4734 - acc: 0.7709\n",
      "Epoch 14/80\n",
      "20000/20000 [==============================] - 21s 1ms/step - loss: 0.4659 - acc: 0.7800\n",
      "Epoch 15/80\n",
      "20000/20000 [==============================] - 21s 1ms/step - loss: 0.4582 - acc: 0.7817\n",
      "Epoch 16/80\n",
      "20000/20000 [==============================] - 20s 1ms/step - loss: 0.4503 - acc: 0.7887\n",
      "Epoch 17/80\n",
      "20000/20000 [==============================] - 20s 1ms/step - loss: 0.4434 - acc: 0.7881: 0s - loss: 0.4436 - acc:\n",
      "Epoch 18/80\n",
      "20000/20000 [==============================] - 20s 1ms/step - loss: 0.4370 - acc: 0.7909\n",
      "Epoch 19/80\n",
      "20000/20000 [==============================] - 21s 1ms/step - loss: 0.4260 - acc: 0.8007: 0s - loss: 0.4261 - acc: 0.800\n",
      "Epoch 20/80\n",
      "20000/20000 [==============================] - 21s 1ms/step - loss: 0.4170 - acc: 0.8080: 1s - l\n",
      "Epoch 21/80\n",
      "20000/20000 [==============================] - 20s 1ms/step - loss: 0.4070 - acc: 0.8116\n",
      "Epoch 22/80\n",
      "20000/20000 [==============================] - 20s 1ms/step - loss: 0.4000 - acc: 0.8168\n",
      "Epoch 23/80\n",
      "20000/20000 [==============================] - 20s 1ms/step - loss: 0.3919 - acc: 0.8213\n",
      "Epoch 24/80\n",
      "20000/20000 [==============================] - 21s 1ms/step - loss: 0.3795 - acc: 0.8321\n",
      "Epoch 25/80\n",
      "20000/20000 [==============================] - 20s 1ms/step - loss: 0.3693 - acc: 0.8337\n",
      "Epoch 26/80\n",
      "20000/20000 [==============================] - 20s 1ms/step - loss: 0.3602 - acc: 0.8420: 0s - loss: 0.3607 - a\n",
      "Epoch 27/80\n",
      "20000/20000 [==============================] - 20s 1ms/step - loss: 0.3535 - acc: 0.8457\n",
      "Epoch 28/80\n",
      "20000/20000 [==============================] - 20s 1ms/step - loss: 0.3441 - acc: 0.8505\n",
      "Epoch 29/80\n",
      "20000/20000 [==============================] - 20s 1ms/step - loss: 0.3334 - acc: 0.8584: 0s - loss: 0.334\n",
      "Epoch 30/80\n",
      "20000/20000 [==============================] - 20s 1ms/step - loss: 0.3298 - acc: 0.8568\n",
      "Epoch 31/80\n",
      "20000/20000 [==============================] - 20s 1ms/step - loss: 0.3203 - acc: 0.8646: 0s - loss: 0.3213 - ac\n",
      "Epoch 32/80\n",
      "20000/20000 [==============================] - 20s 1ms/step - loss: 0.3135 - acc: 0.8668\n",
      "Epoch 33/80\n",
      "20000/20000 [==============================] - 21s 1ms/step - loss: 0.3051 - acc: 0.8720\n",
      "Epoch 34/80\n",
      "20000/20000 [==============================] - 20s 1ms/step - loss: 0.2990 - acc: 0.8764\n",
      "Epoch 35/80\n",
      "20000/20000 [==============================] - 20s 1ms/step - loss: 0.2963 - acc: 0.8787\n",
      "Epoch 36/80\n",
      "20000/20000 [==============================] - 20s 1ms/step - loss: 0.2877 - acc: 0.8828\n",
      "Epoch 37/80\n",
      "20000/20000 [==============================] - 20s 1ms/step - loss: 0.2813 - acc: 0.8836\n",
      "Epoch 38/80\n",
      "20000/20000 [==============================] - 20s 1ms/step - loss: 0.2758 - acc: 0.8864\n",
      "Epoch 39/80\n",
      "20000/20000 [==============================] - 20s 1ms/step - loss: 0.2735 - acc: 0.8845\n",
      "Epoch 40/80\n",
      "20000/20000 [==============================] - 20s 1ms/step - loss: 0.2715 - acc: 0.8857\n",
      "Epoch 41/80\n",
      "20000/20000 [==============================] - 20s 1ms/step - loss: 0.2653 - acc: 0.8901\n",
      "Epoch 42/80\n",
      "20000/20000 [==============================] - 21s 1ms/step - loss: 0.2591 - acc: 0.8953\n",
      "Epoch 43/80\n",
      "20000/20000 [==============================] - 20s 1ms/step - loss: 0.2535 - acc: 0.8991\n",
      "Epoch 44/80\n",
      "20000/20000 [==============================] - 21s 1ms/step - loss: 0.2484 - acc: 0.8987\n",
      "Epoch 45/80\n",
      "20000/20000 [==============================] - 20s 1ms/step - loss: 0.2493 - acc: 0.8999\n",
      "Epoch 46/80\n",
      "20000/20000 [==============================] - 20s 1ms/step - loss: 0.2442 - acc: 0.9020\n",
      "Epoch 47/80\n",
      "20000/20000 [==============================] - 20s 1ms/step - loss: 0.2453 - acc: 0.9002\n",
      "Epoch 48/80\n",
      "20000/20000 [==============================] - 20s 1ms/step - loss: 0.2367 - acc: 0.9055\n",
      "Epoch 49/80\n",
      "20000/20000 [==============================] - 20s 1ms/step - loss: 0.2394 - acc: 0.9033: 1s - loss: 0.23\n",
      "Epoch 50/80\n",
      "20000/20000 [==============================] - 20s 1ms/step - loss: 0.2321 - acc: 0.9098: 6s - loss: 0. - ETA: 3s - loss: 0.2308  - ETA: 2s - l - ETA: 0s - loss: 0.2314 \n",
      "Epoch 51/80\n",
      "20000/20000 [==============================] - 20s 1ms/step - loss: 0.2316 - acc: 0.9072\n",
      "Epoch 52/80\n",
      "20000/20000 [==============================] - 20s 1ms/step - loss: 0.2273 - acc: 0.9076: 1s - loss - ETA: 0s - loss: 0.2274 - acc: 0.907\n",
      "Epoch 53/80\n",
      "20000/20000 [==============================] - 20s 1ms/step - loss: 0.2315 - acc: 0.9061\n",
      "Epoch 54/80\n",
      "20000/20000 [==============================] - 20s 1ms/step - loss: 0.2244 - acc: 0.9075\n",
      "Epoch 55/80\n",
      "20000/20000 [==============================] - 20s 1ms/step - loss: 0.2231 - acc: 0.9081 - E\n",
      "Epoch 56/80\n",
      "20000/20000 [==============================] - 20s 1ms/step - loss: 0.2222 - acc: 0.9093: 1s - loss: \n",
      "Epoch 57/80\n",
      "20000/20000 [==============================] - 20s 1ms/step - loss: 0.2168 - acc: 0.9136: 9s - loss: 0.2148 -  - ETA:  - ETA: 1s - loss: 0.2183 - acc: 0.9 - ETA: 1s - loss: 0.2179 - a - ETA: 0s - loss: 0.2173 - \n",
      "Epoch 58/80\n",
      "20000/20000 [==============================] - 20s 1ms/step - loss: 0.2182 - acc: 0.9131: 8s  - ETA: 1s\n",
      "Epoch 59/80\n",
      "20000/20000 [==============================] - 20s 1ms/step - loss: 0.2170 - acc: 0.9134ETA: 0s - loss: 0.2171 - \n",
      "Epoch 60/80\n",
      "20000/20000 [==============================] - 20s 1ms/step - loss: 0.2149 - acc: 0.9139: 1s - loss: 0.2136 - a - ETA: 1s - loss: 0.2139 - acc: 0 - ETA: 0s - loss: 0.214\n",
      "Epoch 61/80\n",
      "20000/20000 [==============================] - 20s 1ms/step - loss: 0.2086 - acc: 0.9174ETA: 8s - loss: 0.2048 - a - E - ETA: 5s - loss: 0.2035 - \n",
      "Epoch 62/80\n",
      "20000/20000 [==============================] - 20s 1ms/step - loss: 0.2061 - acc: 0.9163\n",
      "Epoch 63/80\n",
      "20000/20000 [==============================] - 20s 1ms/step - loss: 0.2091 - acc: 0.9151: 1s - loss: 0 - ETA: 0s - loss: 0.2084 - acc:  - ETA: 0s - loss: 0.2094 - acc: 0.9\n",
      "Epoch 64/80\n",
      "20000/20000 [==============================] - 20s 1ms/step - loss: 0.2082 - acc: 0.9161\n",
      "Epoch 65/80\n",
      "20000/20000 [==============================] - 20s 1ms/step - loss: 0.2060 - acc: 0.9168: 11s - loss: 0.2043 - - ETA - ETA: -\n",
      "Epoch 66/80\n",
      "20000/20000 [==============================] - 20s 1ms/step - loss: 0.2083 - acc: 0.9140: 14s - loss: 0.1982 - acc:  - ETA: 14s - loss: 0. - ETA: 13s - loss: 0.1990 - a - ETA: 13s - loss: 0.1995 - acc: 0. - - ET - ETA: 1s - loss\n",
      "Epoch 67/80\n",
      "20000/20000 [==============================] - 20s 1ms/step - loss: 0.2026 - acc: 0.9203\n",
      "Epoch 68/80\n",
      "20000/20000 [==============================] - 20s 1ms/step - loss: 0.2047 - acc: 0.9178\n",
      "Epoch 69/80\n",
      "20000/20000 [==============================] - 20s 1ms/step - loss: 0.1979 - acc: 0.9212\n",
      "Epoch 70/80\n",
      "20000/20000 [==============================] - 20s 1ms/step - loss: 0.2003 - acc: 0.9194\n",
      "Epoch 71/80\n"
     ]
    },
    {
     "name": "stdout",
     "output_type": "stream",
     "text": [
      "20000/20000 [==============================] - 20s 1ms/step - loss: 0.1982 - acc: 0.9186: 8s - loss: 0.195 - ETA: 5s - loss: 0. - ETA: 4s - loss: 0.1975 - acc: - ETA: 3s - loss: 0\n",
      "Epoch 72/80\n",
      "20000/20000 [==============================] - 20s 1ms/step - loss: 0.1966 - acc: 0.9205\n",
      "Epoch 73/80\n",
      "20000/20000 [==============================] - 21s 1ms/step - loss: 0.2000 - acc: 0.9213\n",
      "Epoch 74/80\n",
      "20000/20000 [==============================] - 21s 1ms/step - loss: 0.1940 - acc: 0.9222\n",
      "Epoch 75/80\n",
      "20000/20000 [==============================] - 21s 1ms/step - loss: 0.1999 - acc: 0.9170\n",
      "Epoch 76/80\n",
      "20000/20000 [==============================] - 21s 1ms/step - loss: 0.1945 - acc: 0.9217\n",
      "Epoch 77/80\n",
      "20000/20000 [==============================] - 21s 1ms/step - loss: 0.1910 - acc: 0.9226\n",
      "Epoch 78/80\n",
      "20000/20000 [==============================] - 21s 1ms/step - loss: 0.1950 - acc: 0.9206\n",
      "Epoch 79/80\n",
      "20000/20000 [==============================] - 21s 1ms/step - loss: 0.1914 - acc: 0.9220\n",
      "Epoch 80/80\n",
      "20000/20000 [==============================] - 21s 1ms/step - loss: 0.1908 - acc: 0.9232\n"
     ]
    }
   ],
   "source": [
    "history=model.fit(X_train, y_train, epochs=80, batch_size=64)"
   ]
  },
  {
   "cell_type": "code",
   "execution_count": 41,
   "metadata": {},
   "outputs": [],
   "source": []
  },
  {
   "cell_type": "code",
   "execution_count": 24,
   "metadata": {},
   "outputs": [
    {
     "data": {
      "image/png": "[encoded data removed]",
      "text/plain": [
       "<Figure size 432x288 with 1 Axes>"
      ]
     },
     "metadata": {
      "needs_background": "light"
     },
     "output_type": "display_data"
    }
   ],
   "source": [
    "import matplotlib.pyplot as plt\n",
    "# summarize history for accuracy\n",
    "plt.plot(history.history['acc'])\n",
    "\n",
    "plt.title('model accuracy')\n",
    "plt.ylabel('accuracy')\n",
    "plt.xlabel('epoch')\n",
    "plt.legend(['train', 'test'], loc='upper left')\n",
    "plt.show()"
   ]
  },
  {
   "cell_type": "code",
   "execution_count": 25,
   "metadata": {},
   "outputs": [
    {
     "name": "stdout",
     "output_type": "stream",
     "text": [
      "Test loss: 0.7329223306655884\n",
      "Test accuracy: 0.7172\n"
     ]
    }
   ],
   "source": [
    "score = model.evaluate(X_test, y_test, verbose=0)\n",
    "print('Test loss:', score[0])\n",
    "print('Test accuracy:', score[1])"
   ]
  },
  {
   "cell_type": "code",
   "execution_count": null,
   "metadata": {},
   "outputs": [],
   "source": []
  }
 ],
 "metadata": {
  "kernelspec": {
   "display_name": "Python 3",
   "language": "python",
   "name": "python3"
  },
  "language_info": {
   "codemirror_mode": {
    "name": "ipython",
    "version": 3
   },
   "file_extension": ".py",
   "mimetype": "text/x-python",
   "name": "python",
   "nbconvert_exporter": "python",
   "pygments_lexer": "ipython3",
   "version": "3.6.8"
  }
 },
 "nbformat": 4,
 "nbformat_minor": 2
}
